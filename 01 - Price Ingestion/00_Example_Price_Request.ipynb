{
  "nbformat": 4,
  "nbformat_minor": 0,
  "metadata": {
    "colab": {
      "name": "00 - Example Price Request.ipynb",
      "provenance": [],
      "authorship_tag": "ABX9TyO0RL2/5nIw60xApPcMIOB/",
      "include_colab_link": true
    },
    "kernelspec": {
      "name": "python3",
      "display_name": "Python 3"
    },
    "language_info": {
      "name": "python"
    }
  },
  "cells": [
    {
      "cell_type": "markdown",
      "metadata": {
        "id": "view-in-github",
        "colab_type": "text"
      },
      "source": [
        "<a href=\"https://colab.research.google.com/github/JotaBlanco/CryptoAlgoTrading/blob/main/01%20-%20Price%20Ingestion/00_Example_Price_Request.ipynb\" target=\"_parent\"><img src=\"https://colab.research.google.com/assets/colab-badge.svg\" alt=\"Open In Colab\"/></a>"
      ]
    },
    {
      "cell_type": "code",
      "source": [
        "# COIN API Key\n",
        "coin_api_key = \"CA10CC9B-80ED-43CB-A07A-3172711AA7D0\"\n",
        "headers = {'X-CoinAPI-Key': coin_api_key}\n",
        "headers"
      ],
      "metadata": {
        "colab": {
          "base_uri": "https://localhost:8080/"
        },
        "id": "sgcpFQ2_FcOd",
        "outputId": "d3a471af-361d-48d4-adfa-62b9e86ec70b"
      },
      "execution_count": null,
      "outputs": [
        {
          "output_type": "execute_result",
          "data": {
            "text/plain": [
              "{'X-CoinAPI-Key': 'CA10CC9B-80ED-43CB-A07A-3172711AA7D0'}"
            ]
          },
          "metadata": {},
          "execution_count": 16
        }
      ]
    },
    {
      "cell_type": "code",
      "execution_count": null,
      "metadata": {
        "colab": {
          "base_uri": "https://localhost:8080/",
          "height": 35
        },
        "id": "OT4j0TlbFOWL",
        "outputId": "36b67cf4-1c83-4055-8fa6-8e1b6efecb51"
      },
      "outputs": [
        {
          "output_type": "execute_result",
          "data": {
            "application/vnd.google.colaboratory.intrinsic+json": {
              "type": "string"
            },
            "text/plain": [
              "'https://data.messari.io/api/v2/assets?fields=id,slug,symbol,metrics,limit=100/market_data/price_usd'"
            ]
          },
          "metadata": {},
          "execution_count": 15
        }
      ],
      "source": [
        "url = \"https://data.messari.io/api/v2/assets?fields=id,slug,symbol,metrics,limit=100/market_data/price_usd\"\n",
        "\n",
        "url"
      ]
    },
    {
      "cell_type": "code",
      "source": [
        "response = requests.get(url)\n",
        "data = response.json()\n",
        "data"
      ],
      "metadata": {
        "colab": {
          "base_uri": "https://localhost:8080/"
        },
        "id": "O8wOgvYQFtCa",
        "outputId": "88d9cb37-fb5d-47a6-f887-8af5b7a5d9d4"
      },
      "execution_count": null,
      "outputs": [
        {
          "output_type": "execute_result",
          "data": {
            "text/plain": [
              "{'status': {'elapsed': 175,\n",
              "  'error_code': 400,\n",
              "  'error_message': 'Bad Request',\n",
              "  'timestamp': '2022-03-05T21:21:10.437969693Z'}}"
            ]
          },
          "metadata": {},
          "execution_count": 18
        }
      ]
    },
    {
      "cell_type": "code",
      "source": [
        "import requests"
      ],
      "metadata": {
        "id": "c-ayBW0CR6MV"
      },
      "execution_count": null,
      "outputs": []
    },
    {
      "cell_type": "code",
      "source": [
        "url = \"https://api.nomics.com/v1\"\n",
        "response = requests.get(url, headers=headers)\n",
        "data = response.json()\n",
        "data"
      ],
      "metadata": {
        "id": "mXxzma74SQfN",
        "outputId": "9d01f0c0-0fdf-47d6-ab1c-1ec7fd670849",
        "colab": {
          "base_uri": "https://localhost:8080/"
        }
      },
      "execution_count": null,
      "outputs": [
        {
          "output_type": "execute_result",
          "data": {
            "text/plain": [
              "<Response [401]>"
            ]
          },
          "metadata": {},
          "execution_count": 21
        }
      ]
    },
    {
      "cell_type": "code",
      "source": [
        ""
      ],
      "metadata": {
        "id": "VyRrmtFLSR1-"
      },
      "execution_count": null,
      "outputs": []
    }
  ]
}